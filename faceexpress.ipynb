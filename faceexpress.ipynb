{
  "cells": [
    {
      "cell_type": "code",
      "execution_count": null,
      "metadata": {
        "id": "k0qgFaLrlgMi"
      },
      "outputs": [],
      "source": [
        "import cv2\n",
        "import mediapipe as mp\n",
        "from flask import Flask, request, jsonify\n"
      ]
    },
    {
      "cell_type": "code",
      "execution_count": null,
      "metadata": {
        "id": "8uVzAyg1lwK8"
      },
      "outputs": [],
      "source": [
        "app = Flask(__name__)\n",
        "\n",
        "@app.route('/detect_emotion', methods=['POST'])\n",
        "def detect_emotion():\n",
        "    # Get the image from the request\n",
        "    image = request.files['image'].read()\n",
        "\n",
        "    # Perform emotion detection on the image\n",
        "    result = perform_emotion_detection(image)\n",
        "\n",
        "    # Return the result as JSON\n",
        "    return jsonify(result)\n"
      ]
    },
    {
      "cell_type": "code",
      "execution_count": null,
      "metadata": {
        "id": "UiDiib2umXIx"
      },
      "outputs": [],
      "source": [
        "def perform_emotion_detection(image):\n",
        "    # Convert the image data into OpenCV format\n",
        "    image = cv2.imdecode(np.frombuffer(image, np.uint8), cv2.IMREAD_COLOR)\n",
        "    image_rgb = cv2.cvtColor(image, cv2.COLOR_BGR2RGB)\n",
        "\n",
        "    # Initialize Mediapipe holistic model\n",
        "    with mp_holistic.Holistic(min_detection_confidence=0.5, min_tracking_confidence=0.5) as holistic:\n",
        "        # Process the image\n",
        "        results = holistic.process(image_rgb)\n",
        "\n",
        "        # Retrieve the face landmarks\n",
        "        face_landmarks = results.face_landmarks\n",
        "\n",
        "        # Perform emotion detection based on facial expressions\n",
        "        if face_landmarks is not None:\n",
        "            # Calculate the distances between key facial landmarks\n",
        "            eye_distance = calculate_distance(face_landmarks.landmark[mp_holistic.FaceLandmark.LEFT_EYE].x,\n",
        "                                              face_landmarks.landmark[mp_holistic.FaceLandmark.LEFT_EYE].y,\n",
        "                                              face_landmarks.landmark[mp_holistic.FaceLandmark.RIGHT_EYE].x,\n",
        "                                              face_landmarks.landmark[mp_holistic.FaceLandmark.RIGHT_EYE].y)\n",
        "            mouth_distance = calculate_distance(face_landmarks.landmark[mp_holistic.FaceLandmark.MOUTH_LEFT].x,\n",
        "                                                face_landmarks.landmark[mp_holistic.FaceLandmark.MOUTH_LEFT].y,\n",
        "                                                face_landmarks.landmark[mp_holistic.FaceLandmark.MOUTH_RIGHT].x,\n",
        "                                                face_landmarks.landmark[mp_holistic.FaceLandmark.MOUTH_RIGHT].y)\n",
        "\n",
        "            # Perform emotion detection based on the distances\n",
        "            if eye_distance > threshold and mouth_distance > threshold:\n",
        "                emotion = 'happy'\n",
        "            else:\n",
        "                emotion = 'sad'\n",
        "        else:\n",
        "            emotion = 'unknown'\n",
        "\n",
        "        # Retrieve the body landmarks\n",
        "        body_landmarks = results.pose_landmarks\n",
        "\n",
        "        # Perform emotion detection based on body movements\n",
        "        if body_landmarks is not None:\n",
        "            # Calculate the average y-coordinate of the body landmarks\n",
        "            avg_y = np.mean([landmark.y for landmark in body_landmarks.landmark])\n",
        "\n",
        "            # Perform emotion detection based on the average y-coordinate\n",
        "            if avg_y > threshold:\n",
        "                emotion = 'excited'\n",
        "            else:\n",
        "                emotion = 'angry'\n",
        "\n",
        "    # Format the results\n",
        "    emotions = {\n",
        "        'emotion': emotion\n",
        "    }\n",
        "\n",
        "    return emotions\n",
        "\n",
        "\n",
        "def calculate_distance(x1, y1, x2, y2):\n",
        "    return np.sqrt((x2 - x1) ** 2 + (y2 - y1) ** 2)\n"
      ]
    },
    {
      "cell_type": "code",
      "execution_count": null,
      "metadata": {
        "colab": {
          "base_uri": "https://localhost:8080/"
        },
        "id": "gRGsMbPmmkVA",
        "outputId": "5a3add20-578d-49bd-f0af-f8820079cd3c"
      },
      "outputs": [
        {
          "metadata": {
            "tags": null
          },
          "name": "stdout",
          "output_type": "stream",
          "text": [
            " * Serving Flask app '__main__'\n",
            " * Debug mode: off\n"
          ]
        },
        {
          "metadata": {
            "tags": null
          },
          "name": "stderr",
          "output_type": "stream",
          "text": [
            "INFO:werkzeug:\u001b[31m\u001b[1mWARNING: This is a development server. Do not use it in a production deployment. Use a production WSGI server instead.\u001b[0m\n",
            " * Running on http://127.0.0.1:5000\n",
            "INFO:werkzeug:\u001b[33mPress CTRL+C to quit\u001b[0m\n"
          ]
        }
      ],
      "source": [
        "if __name__ == '__main__':\n",
        "    app.run()\n"
      ]
    },
    {
      "cell_type": "code",
      "execution_count": null,
      "metadata": {
        "colab": {
          "base_uri": "https://localhost:8080/"
        },
        "id": "he_0tXInlprQ",
        "outputId": "d6ae36a4-5cda-49fa-9170-d77775641236"
      },
      "outputs": [
        {
          "name": "stdout",
          "output_type": "stream",
          "text": [
            "Collecting mediapipe\n",
            "  Downloading mediapipe-0.10.1-cp310-cp310-manylinux_2_17_x86_64.manylinux2014_x86_64.whl (33.8 MB)\n",
            "\u001b[2K     \u001b[90m━━━━━━━━━━━━━━━━━━━━━━━━━━━━━━━━━━━━━━━━\u001b[0m \u001b[32m33.8/33.8 MB\u001b[0m \u001b[31m29.5 MB/s\u001b[0m eta \u001b[36m0:00:00\u001b[0m\n",
            "\u001b[?25hRequirement already satisfied: opencv-python in /usr/local/lib/python3.10/dist-packages (4.7.0.72)\n",
            "Requirement already satisfied: flask in /usr/local/lib/python3.10/dist-packages (2.2.5)\n",
            "Requirement already satisfied: absl-py in /usr/local/lib/python3.10/dist-packages (from mediapipe) (1.4.0)\n",
            "Requirement already satisfied: attrs>=19.1.0 in /usr/local/lib/python3.10/dist-packages (from mediapipe) (23.1.0)\n",
            "Requirement already satisfied: flatbuffers>=2.0 in /usr/local/lib/python3.10/dist-packages (from mediapipe) (23.5.26)\n",
            "Requirement already satisfied: matplotlib in /usr/local/lib/python3.10/dist-packages (from mediapipe) (3.7.1)\n",
            "Requirement already satisfied: numpy in /usr/local/lib/python3.10/dist-packages (from mediapipe) (1.22.4)\n",
            "Requirement already satisfied: opencv-contrib-python in /usr/local/lib/python3.10/dist-packages (from mediapipe) (4.7.0.72)\n",
            "Requirement already satisfied: protobuf<4,>=3.11 in /usr/local/lib/python3.10/dist-packages (from mediapipe) (3.20.3)\n",
            "Collecting sounddevice>=0.4.4 (from mediapipe)\n",
            "  Downloading sounddevice-0.4.6-py3-none-any.whl (31 kB)\n",
            "Requirement already satisfied: Werkzeug>=2.2.2 in /usr/local/lib/python3.10/dist-packages (from flask) (2.3.6)\n",
            "Requirement already satisfied: Jinja2>=3.0 in /usr/local/lib/python3.10/dist-packages (from flask) (3.1.2)\n",
            "Requirement already satisfied: itsdangerous>=2.0 in /usr/local/lib/python3.10/dist-packages (from flask) (2.1.2)\n",
            "Requirement already satisfied: click>=8.0 in /usr/local/lib/python3.10/dist-packages (from flask) (8.1.3)\n",
            "Requirement already satisfied: MarkupSafe>=2.0 in /usr/local/lib/python3.10/dist-packages (from Jinja2>=3.0->flask) (2.1.3)\n",
            "Requirement already satisfied: CFFI>=1.0 in /usr/local/lib/python3.10/dist-packages (from sounddevice>=0.4.4->mediapipe) (1.15.1)\n",
            "Requirement already satisfied: contourpy>=1.0.1 in /usr/local/lib/python3.10/dist-packages (from matplotlib->mediapipe) (1.1.0)\n",
            "Requirement already satisfied: cycler>=0.10 in /usr/local/lib/python3.10/dist-packages (from matplotlib->mediapipe) (0.11.0)\n",
            "Requirement already satisfied: fonttools>=4.22.0 in /usr/local/lib/python3.10/dist-packages (from matplotlib->mediapipe) (4.40.0)\n",
            "Requirement already satisfied: kiwisolver>=1.0.1 in /usr/local/lib/python3.10/dist-packages (from matplotlib->mediapipe) (1.4.4)\n",
            "Requirement already satisfied: packaging>=20.0 in /usr/local/lib/python3.10/dist-packages (from matplotlib->mediapipe) (23.1)\n",
            "Requirement already satisfied: pillow>=6.2.0 in /usr/local/lib/python3.10/dist-packages (from matplotlib->mediapipe) (8.4.0)\n",
            "Requirement already satisfied: pyparsing>=2.3.1 in /usr/local/lib/python3.10/dist-packages (from matplotlib->mediapipe) (3.1.0)\n",
            "Requirement already satisfied: python-dateutil>=2.7 in /usr/local/lib/python3.10/dist-packages (from matplotlib->mediapipe) (2.8.2)\n",
            "Requirement already satisfied: pycparser in /usr/local/lib/python3.10/dist-packages (from CFFI>=1.0->sounddevice>=0.4.4->mediapipe) (2.21)\n",
            "Requirement already satisfied: six>=1.5 in /usr/local/lib/python3.10/dist-packages (from python-dateutil>=2.7->matplotlib->mediapipe) (1.16.0)\n",
            "Installing collected packages: sounddevice, mediapipe\n",
            "Successfully installed mediapipe-0.10.1 sounddevice-0.4.6\n"
          ]
        }
      ],
      "source": [
        "pip install mediapipe opencv-python flask\n"
      ]
    }
  ],
  "metadata": {
    "colab": {
      "provenance": []
    },
    "kernelspec": {
      "display_name": "Python 3",
      "name": "python3"
    },
    "language_info": {
      "name": "python"
    }
  },
  "nbformat": 4,
  "nbformat_minor": 0
}